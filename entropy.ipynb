{
 "cells": [
  {
   "attachments": {},
   "cell_type": "markdown",
   "metadata": {},
   "source": [
    "## Imports"
   ]
  },
  {
   "cell_type": "code",
   "execution_count": 1,
   "metadata": {},
   "outputs": [],
   "source": [
    "import re\n",
    "import os\n",
    "import csv\n",
    "import pandas as pd"
   ]
  },
  {
   "cell_type": "code",
   "execution_count": 5,
   "metadata": {},
   "outputs": [
    {
     "name": "stdout",
     "output_type": "stream",
     "text": [
      "---\n",
      "Content: {   \"shell_port\": 9007,   \"iopub_port\": 9009,   \"stdin_port\": 9008,   \"control_port\": 9006,   \"hb_port\": 9005,   \"ip\": \"127.0.0.1\",   \"key\": \"029f00dc-3b93-4499-b267-5181d24f027e\",   \"transport\": \"tcp\",   \"signature_scheme\": \"hmac-sha256\",   \"kernel_name\": \"\" }\n",
      "Probabilities: {'{': 0.0038314176245210726, ' ': 0.15708812260536398, '\"': 0.11494252873563218, 's': 0.022988505747126436, 'h': 0.019157088122605363, 'e': 0.034482758620689655, 'l': 0.01532567049808429, '_': 0.02681992337164751, 'p': 0.034482758620689655, 'o': 0.034482758620689655, 'r': 0.038314176245210725, 't': 0.0421455938697318, ':': 0.038314176245210725, '9': 0.038314176245210725, '0': 0.06130268199233716, '7': 0.01532567049808429, ',': 0.034482758620689655, 'i': 0.01532567049808429, 'u': 0.007662835249042145, 'b': 0.01532567049808429, 'd': 0.011494252873563218, 'n': 0.022988505747126436, '8': 0.007662835249042145, 'c': 0.019157088122605363, '6': 0.011494252873563218, '5': 0.011494252873563218, '1': 0.01532567049808429, '2': 0.022988505747126436, '.': 0.011494252873563218, 'k': 0.007662835249042145, 'y': 0.0038314176245210726, 'f': 0.007662835249042145, '-': 0.019157088122605363, '3': 0.007662835249042145, '4': 0.011494252873563218, 'a': 0.019157088122605363, 'g': 0.0038314176245210726, 'm': 0.011494252873563218, '}': 0.0038314176245210726}\n",
      "Entropy: 4.679844934733626 bits\n",
      "---\n"
     ]
    }
   ],
   "source": [
    "from scripts import cleaner\n",
    "from scripts import entro"
   ]
  },
  {
   "cell_type": "code",
   "execution_count": 6,
   "metadata": {},
   "outputs": [],
   "source": [
    "from bs4 import BeautifulSoup\n",
    "import urllib.request"
   ]
  },
  {
   "attachments": {},
   "cell_type": "markdown",
   "metadata": {},
   "source": [
    "## Data loading"
   ]
  },
  {
   "cell_type": "code",
   "execution_count": 7,
   "metadata": {},
   "outputs": [],
   "source": [
    "decades = ['1950s', '1960s', '1970s', '1980s', '1990s', '2000s', '2010s']\n",
    "decades_dict = {}"
   ]
  },
  {
   "attachments": {},
   "cell_type": "markdown",
   "metadata": {},
   "source": [
    "#### ignore"
   ]
  },
  {
   "attachments": {},
   "cell_type": "markdown",
   "metadata": {},
   "source": [
    "~~#### Read src csv lists to df's~~"
   ]
  },
  {
   "cell_type": "code",
   "execution_count": null,
   "metadata": {},
   "outputs": [],
   "source": [
    "# # Takes in one of the decade CSV show lists and returns it as a formatted dataframe\n",
    "# def csvToDataframe(filename):\n",
    "#     df = pd.read_csv(filename, header=None, names=['title', 'start', 'end', 'wiki_url', 'transcript_url'])\n",
    "#     return df"
   ]
  },
  {
   "cell_type": "code",
   "execution_count": null,
   "metadata": {},
   "outputs": [],
   "source": [
    "# for decade in decades:\n",
    "#     path = \"src/\" + decade[:-1] + \"_shows.csv\"\n",
    "#     decades_dict[decade] = csvToDataframe(path)\n",
    "#     # print(path + \" has been processed\")"
   ]
  },
  {
   "cell_type": "code",
   "execution_count": null,
   "metadata": {},
   "outputs": [],
   "source": [
    "# shows = []\n",
    "# for decade in decades:\n",
    "#     curr_df = decades_dict[decade]\n",
    "#     for i, row in curr_df.iterrows():\n",
    "#         shows.append(row['title'])"
   ]
  },
  {
   "attachments": {},
   "cell_type": "markdown",
   "metadata": {},
   "source": [
    "#### Read metadata csv's to df's"
   ]
  },
  {
   "cell_type": "code",
   "execution_count": 8,
   "metadata": {},
   "outputs": [],
   "source": [
    "meta = {}"
   ]
  },
  {
   "cell_type": "code",
   "execution_count": 9,
   "metadata": {},
   "outputs": [],
   "source": [
    "for decade in decades:\n",
    "    path = \"metadata/episodes_\" + decade[:-1] + \".csv\"\n",
    "    meta[decade] = pd.read_csv(path, header=0)"
   ]
  },
  {
   "cell_type": "code",
   "execution_count": 10,
   "metadata": {},
   "outputs": [],
   "source": [
    "for decade in decades:\n",
    "    curr_df = meta[decade]\n",
    "    meta[decade] = curr_df.groupby(['title', 'season'])"
   ]
  },
  {
   "cell_type": "code",
   "execution_count": 11,
   "metadata": {},
   "outputs": [
    {
     "data": {
      "text/plain": [
       "title        season\n",
       "I Love Lucy  1         36\n",
       "             2         32\n",
       "             3         31\n",
       "             4         30\n",
       "             5         26\n",
       "             6         27\n",
       "Name: episode, dtype: int64"
      ]
     },
     "execution_count": 11,
     "metadata": {},
     "output_type": "execute_result"
    }
   ],
   "source": [
    "meta['1950s']['episode'].count()"
   ]
  },
  {
   "cell_type": "code",
   "execution_count": 12,
   "metadata": {},
   "outputs": [
    {
     "data": {
      "text/plain": [
       "title                  season\n",
       "30 Rock                1         21\n",
       "                       2         15\n",
       "                       3         22\n",
       "                       4         21\n",
       "                       5         22\n",
       "                       6         21\n",
       "                       7         12\n",
       "Big Bang Theory        1         17\n",
       "                       2         23\n",
       "                       3         23\n",
       "                       4         24\n",
       "                       5         24\n",
       "                       6         24\n",
       "                       7         24\n",
       "                       8         24\n",
       "                       9         24\n",
       "                       10        24\n",
       "                       11        24\n",
       "                       12        24\n",
       "Community              1         25\n",
       "                       2         24\n",
       "                       3         22\n",
       "                       4         13\n",
       "                       5         13\n",
       "                       6         13\n",
       "Malcolm in the Middle  1         16\n",
       "                       2         25\n",
       "                       3         22\n",
       "                       4         22\n",
       "                       5         22\n",
       "                       6         22\n",
       "                       7         22\n",
       "Parks and Recreation   1          6\n",
       "                       2         24\n",
       "                       3         16\n",
       "                       4         22\n",
       "                       5         22\n",
       "                       6         20\n",
       "                       7         12\n",
       "Psych                  1         15\n",
       "                       2         16\n",
       "                       3         16\n",
       "                       4         16\n",
       "                       5         16\n",
       "                       6         16\n",
       "                       7         15\n",
       "                       8         10\n",
       "The IT Crowd           1          6\n",
       "                       2          6\n",
       "                       3          6\n",
       "                       4          7\n",
       "The Office (US)        1          6\n",
       "                       2         22\n",
       "                       3         23\n",
       "                       4         14\n",
       "                       5         26\n",
       "                       6         24\n",
       "                       7         24\n",
       "                       8         24\n",
       "                       9         23\n",
       "Name: episode, dtype: int64"
      ]
     },
     "execution_count": 12,
     "metadata": {},
     "output_type": "execute_result"
    }
   ],
   "source": [
    "meta['2000s']['episode'].count()"
   ]
  },
  {
   "cell_type": "code",
   "execution_count": null,
   "metadata": {},
   "outputs": [],
   "source": []
  }
 ],
 "metadata": {
  "kernelspec": {
   "display_name": "base",
   "language": "python",
   "name": "python3"
  },
  "language_info": {
   "codemirror_mode": {
    "name": "ipython",
    "version": 3
   },
   "file_extension": ".py",
   "mimetype": "text/x-python",
   "name": "python",
   "nbconvert_exporter": "python",
   "pygments_lexer": "ipython3",
   "version": "3.8.10"
  },
  "orig_nbformat": 4
 },
 "nbformat": 4,
 "nbformat_minor": 2
}
