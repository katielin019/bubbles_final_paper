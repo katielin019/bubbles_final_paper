{
 "cells": [
  {
   "cell_type": "code",
   "execution_count": 7,
   "metadata": {},
   "outputs": [],
   "source": [
    "from bs4 import BeautifulSoup\n",
    "import urllib.request\n",
    "import requests\n",
    "import re\n",
    "import csv\n",
    "import pandas as pd\n",
    "from collections import defaultdict\n",
    "from time import sleep"
   ]
  },
  {
   "cell_type": "code",
   "execution_count": 5,
   "metadata": {},
   "outputs": [],
   "source": [
    "shows = pd.read_csv('shows_final.csv', header=None, names=['title', 'start', 'end', 'wiki_url', 'transcript_url'])"
   ]
  },
  {
   "cell_type": "code",
   "execution_count": 6,
   "metadata": {},
   "outputs": [
    {
     "data": {
      "text/html": [
       "<div>\n",
       "<style scoped>\n",
       "    .dataframe tbody tr th:only-of-type {\n",
       "        vertical-align: middle;\n",
       "    }\n",
       "\n",
       "    .dataframe tbody tr th {\n",
       "        vertical-align: top;\n",
       "    }\n",
       "\n",
       "    .dataframe thead th {\n",
       "        text-align: right;\n",
       "    }\n",
       "</style>\n",
       "<table border=\"1\" class=\"dataframe\">\n",
       "  <thead>\n",
       "    <tr style=\"text-align: right;\">\n",
       "      <th></th>\n",
       "      <th>title</th>\n",
       "      <th>start</th>\n",
       "      <th>end</th>\n",
       "      <th>wiki_url</th>\n",
       "      <th>transcript_url</th>\n",
       "    </tr>\n",
       "  </thead>\n",
       "  <tbody>\n",
       "    <tr>\n",
       "      <th>0</th>\n",
       "      <td>I Love Lucy</td>\n",
       "      <td>Oct. 1951</td>\n",
       "      <td>May 1957</td>\n",
       "      <td>https://en.wikipedia.org/wiki/I_Love_Lucy</td>\n",
       "      <td>https://www.springfieldspringfield.co.uk/episo...</td>\n",
       "    </tr>\n",
       "    <tr>\n",
       "      <th>1</th>\n",
       "      <td>The Flintstones</td>\n",
       "      <td>Sep. 1960</td>\n",
       "      <td>Apr. 1966</td>\n",
       "      <td>https://en.wikipedia.org/wiki/The_Flintstones</td>\n",
       "      <td>https://www.springfieldspringfield.co.uk/episo...</td>\n",
       "    </tr>\n",
       "    <tr>\n",
       "      <th>2</th>\n",
       "      <td>Bewitched</td>\n",
       "      <td>Sep. 1964</td>\n",
       "      <td>Mar. 1972</td>\n",
       "      <td>https://en.wikipedia.org/wiki/Bewitched</td>\n",
       "      <td>https://www.springfieldspringfield.co.uk/episo...</td>\n",
       "    </tr>\n",
       "    <tr>\n",
       "      <th>3</th>\n",
       "      <td>The Addams Family</td>\n",
       "      <td>Sep. 1964</td>\n",
       "      <td>Apr. 1966</td>\n",
       "      <td>https://en.wikipedia.org/wiki/The_Addams_Famil...</td>\n",
       "      <td>https://www.springfieldspringfield.co.uk/episo...</td>\n",
       "    </tr>\n",
       "    <tr>\n",
       "      <th>4</th>\n",
       "      <td>The Munsters</td>\n",
       "      <td>Sep. 1964</td>\n",
       "      <td>May 1966</td>\n",
       "      <td>https://en.wikipedia.org/wiki/The_Munsters</td>\n",
       "      <td>https://www.springfieldspringfield.co.uk/episo...</td>\n",
       "    </tr>\n",
       "  </tbody>\n",
       "</table>\n",
       "</div>"
      ],
      "text/plain": [
       "               title      start        end  \\\n",
       "0        I Love Lucy  Oct. 1951   May 1957   \n",
       "1    The Flintstones  Sep. 1960  Apr. 1966   \n",
       "2          Bewitched  Sep. 1964  Mar. 1972   \n",
       "3  The Addams Family  Sep. 1964  Apr. 1966   \n",
       "4       The Munsters  Sep. 1964   May 1966   \n",
       "\n",
       "                                            wiki_url  \\\n",
       "0          https://en.wikipedia.org/wiki/I_Love_Lucy   \n",
       "1      https://en.wikipedia.org/wiki/The_Flintstones   \n",
       "2            https://en.wikipedia.org/wiki/Bewitched   \n",
       "3  https://en.wikipedia.org/wiki/The_Addams_Famil...   \n",
       "4         https://en.wikipedia.org/wiki/The_Munsters   \n",
       "\n",
       "                                      transcript_url  \n",
       "0  https://www.springfieldspringfield.co.uk/episo...  \n",
       "1  https://www.springfieldspringfield.co.uk/episo...  \n",
       "2  https://www.springfieldspringfield.co.uk/episo...  \n",
       "3  https://www.springfieldspringfield.co.uk/episo...  \n",
       "4  https://www.springfieldspringfield.co.uk/episo...  "
      ]
     },
     "execution_count": 6,
     "metadata": {},
     "output_type": "execute_result"
    }
   ],
   "source": [
    "shows.head()"
   ]
  },
  {
   "cell_type": "code",
   "execution_count": 21,
   "metadata": {},
   "outputs": [
    {
     "name": "stdout",
     "output_type": "stream",
     "text": [
      "I Love Lucy\n"
     ]
    }
   ],
   "source": [
    "for index, row in shows.iterrows():\n",
    "    title = row['title']\n",
    "    if title == \"I Love Lucy\":\n",
    "        print(title)\n",
    "        url = row['transcript_url']\n",
    "        page = urllib.request.urlopen(url)\n",
    "        soup = BeautifulSoup(page, \"lxml\")\n",
    "        # seasons = soup.find_all('div', class_='script-season-links')\n",
    "        \n",
    "        seid_list = []\n",
    "        url_list = []\n",
    "\n",
    "        for link in soup.find_all('a'):\n",
    "            route = link.get('href')\n",
    "            if route.startswith(\"view_episode_scripts\"):\n",
    "                seid_list.append(route[-6:])\n",
    "                url_list.append(route)\n",
    "\n",
    "        curr_show = pd.DataFrame({'seid': seid_list, 'url': url_list})  \n",
    "                "
   ]
  },
  {
   "cell_type": "code",
   "execution_count": 22,
   "metadata": {},
   "outputs": [
    {
     "data": {
      "text/html": [
       "<div>\n",
       "<style scoped>\n",
       "    .dataframe tbody tr th:only-of-type {\n",
       "        vertical-align: middle;\n",
       "    }\n",
       "\n",
       "    .dataframe tbody tr th {\n",
       "        vertical-align: top;\n",
       "    }\n",
       "\n",
       "    .dataframe thead th {\n",
       "        text-align: right;\n",
       "    }\n",
       "</style>\n",
       "<table border=\"1\" class=\"dataframe\">\n",
       "  <thead>\n",
       "    <tr style=\"text-align: right;\">\n",
       "      <th></th>\n",
       "      <th>seid</th>\n",
       "      <th>url</th>\n",
       "    </tr>\n",
       "  </thead>\n",
       "  <tbody>\n",
       "    <tr>\n",
       "      <th>0</th>\n",
       "      <td>s01e00</td>\n",
       "      <td>view_episode_scripts.php?tv-show=i-love-lucy-1...</td>\n",
       "    </tr>\n",
       "    <tr>\n",
       "      <th>1</th>\n",
       "      <td>s01e01</td>\n",
       "      <td>view_episode_scripts.php?tv-show=i-love-lucy-1...</td>\n",
       "    </tr>\n",
       "    <tr>\n",
       "      <th>2</th>\n",
       "      <td>s01e02</td>\n",
       "      <td>view_episode_scripts.php?tv-show=i-love-lucy-1...</td>\n",
       "    </tr>\n",
       "    <tr>\n",
       "      <th>3</th>\n",
       "      <td>s01e03</td>\n",
       "      <td>view_episode_scripts.php?tv-show=i-love-lucy-1...</td>\n",
       "    </tr>\n",
       "    <tr>\n",
       "      <th>4</th>\n",
       "      <td>s01e04</td>\n",
       "      <td>view_episode_scripts.php?tv-show=i-love-lucy-1...</td>\n",
       "    </tr>\n",
       "  </tbody>\n",
       "</table>\n",
       "</div>"
      ],
      "text/plain": [
       "     seid                                                url\n",
       "0  s01e00  view_episode_scripts.php?tv-show=i-love-lucy-1...\n",
       "1  s01e01  view_episode_scripts.php?tv-show=i-love-lucy-1...\n",
       "2  s01e02  view_episode_scripts.php?tv-show=i-love-lucy-1...\n",
       "3  s01e03  view_episode_scripts.php?tv-show=i-love-lucy-1...\n",
       "4  s01e04  view_episode_scripts.php?tv-show=i-love-lucy-1..."
      ]
     },
     "execution_count": 22,
     "metadata": {},
     "output_type": "execute_result"
    }
   ],
   "source": [
    "curr_show.head()"
   ]
  },
  {
   "cell_type": "code",
   "execution_count": null,
   "metadata": {},
   "outputs": [],
   "source": []
  }
 ],
 "metadata": {
  "kernelspec": {
   "display_name": "base",
   "language": "python",
   "name": "python3"
  },
  "language_info": {
   "codemirror_mode": {
    "name": "ipython",
    "version": 3
   },
   "file_extension": ".py",
   "mimetype": "text/x-python",
   "name": "python",
   "nbconvert_exporter": "python",
   "pygments_lexer": "ipython3",
   "version": "3.8.10"
  },
  "orig_nbformat": 4
 },
 "nbformat": 4,
 "nbformat_minor": 2
}
