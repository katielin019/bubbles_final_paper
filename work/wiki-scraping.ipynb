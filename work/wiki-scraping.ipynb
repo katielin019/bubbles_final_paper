{
 "cells": [
  {
   "cell_type": "code",
   "execution_count": 1,
   "metadata": {},
   "outputs": [],
   "source": [
    "import urllib.request\n",
    "from bs4 import BeautifulSoup\n",
    "import pandas as pd"
   ]
  },
  {
   "cell_type": "code",
   "execution_count": 2,
   "metadata": {},
   "outputs": [],
   "source": [
    "import csv"
   ]
  },
  {
   "cell_type": "code",
   "execution_count": 6,
   "metadata": {},
   "outputs": [],
   "source": [
    "reader = csv.reader(open('csvFile.csv', 'r'))\n",
    "d = {}\n",
    "for row in reader:\n",
    "    k, v, ignore = row\n",
    "    d[k] = v"
   ]
  },
  {
   "cell_type": "code",
   "execution_count": 7,
   "metadata": {},
   "outputs": [],
   "source": [
    "shows = pd.DataFrame(d.items(), columns=['show', 'wiki_url'])"
   ]
  },
  {
   "cell_type": "code",
   "execution_count": 8,
   "metadata": {},
   "outputs": [
    {
     "data": {
      "text/html": [
       "<div>\n",
       "<style scoped>\n",
       "    .dataframe tbody tr th:only-of-type {\n",
       "        vertical-align: middle;\n",
       "    }\n",
       "\n",
       "    .dataframe tbody tr th {\n",
       "        vertical-align: top;\n",
       "    }\n",
       "\n",
       "    .dataframe thead th {\n",
       "        text-align: right;\n",
       "    }\n",
       "</style>\n",
       "<table border=\"1\" class=\"dataframe\">\n",
       "  <thead>\n",
       "    <tr style=\"text-align: right;\">\n",
       "      <th></th>\n",
       "      <th>show</th>\n",
       "      <th>wiki_url</th>\n",
       "    </tr>\n",
       "  </thead>\n",
       "  <tbody>\n",
       "    <tr>\n",
       "      <th>0</th>\n",
       "      <td>30 Rock</td>\n",
       "      <td>https://en.wikipedia.org/wiki/30_Rock</td>\n",
       "    </tr>\n",
       "    <tr>\n",
       "      <th>1</th>\n",
       "      <td>3rd Rock from the Sun</td>\n",
       "      <td>https://en.wikipedia.org/wiki/3rd_Rock_from_th...</td>\n",
       "    </tr>\n",
       "    <tr>\n",
       "      <th>2</th>\n",
       "      <td>All in the Family</td>\n",
       "      <td>https://en.wikipedia.org/wiki/All_in_the_Family</td>\n",
       "    </tr>\n",
       "    <tr>\n",
       "      <th>3</th>\n",
       "      <td>Arrested Development</td>\n",
       "      <td>https://en.wikipedia.org/wiki/Arrested_Develop...</td>\n",
       "    </tr>\n",
       "    <tr>\n",
       "      <th>4</th>\n",
       "      <td>Bewitched</td>\n",
       "      <td>https://en.wikipedia.org/wiki/Bewitched</td>\n",
       "    </tr>\n",
       "  </tbody>\n",
       "</table>\n",
       "</div>"
      ],
      "text/plain": [
       "                    show                                           wiki_url\n",
       "0                30 Rock              https://en.wikipedia.org/wiki/30_Rock\n",
       "1  3rd Rock from the Sun  https://en.wikipedia.org/wiki/3rd_Rock_from_th...\n",
       "2      All in the Family    https://en.wikipedia.org/wiki/All_in_the_Family\n",
       "3   Arrested Development  https://en.wikipedia.org/wiki/Arrested_Develop...\n",
       "4              Bewitched            https://en.wikipedia.org/wiki/Bewitched"
      ]
     },
     "execution_count": 8,
     "metadata": {},
     "output_type": "execute_result"
    }
   ],
   "source": [
    "shows.head()"
   ]
  },
  {
   "cell_type": "code",
   "execution_count": 25,
   "metadata": {},
   "outputs": [],
   "source": [
    "import re"
   ]
  },
  {
   "cell_type": "code",
   "execution_count": 26,
   "metadata": {},
   "outputs": [],
   "source": [
    "pattern = r\"(?:January|February|March|April|May|June|July|August|September|October|November|December) \\d{1,2}, \\d{4}\"\n",
    "re_dates = re.compile(pattern)"
   ]
  },
  {
   "cell_type": "code",
   "execution_count": 29,
   "metadata": {},
   "outputs": [
    {
     "name": "stdout",
     "output_type": "stream",
     "text": [
      "January 9, 1996\n",
      "May 22, 2001\n"
     ]
    }
   ],
   "source": [
    "for index, row in shows.iterrows():\n",
    "    url = row['wiki_url']\n",
    "    if url == \"https://en.wikipedia.org/wiki/3rd_Rock_from_the_Sun\":\n",
    "        page = urllib.request.urlopen(url)\n",
    "        soup = BeautifulSoup(page, \"lxml\")\n",
    "        # all_tables = soup.find_all('table')\n",
    "        # print(all_tables)\n",
    "        table = soup.find_all('table', class_='infobox vevent')\n",
    "        dates = re.findall(re_dates, str(table))\n",
    "        for d in dates:\n",
    "            print(d)"
   ]
  },
  {
   "cell_type": "code",
   "execution_count": null,
   "metadata": {},
   "outputs": [],
   "source": []
  }
 ],
 "metadata": {
  "kernelspec": {
   "display_name": "base",
   "language": "python",
   "name": "python3"
  },
  "language_info": {
   "codemirror_mode": {
    "name": "ipython",
    "version": 3
   },
   "file_extension": ".py",
   "mimetype": "text/x-python",
   "name": "python",
   "nbconvert_exporter": "python",
   "pygments_lexer": "ipython3",
   "version": "3.8.10"
  },
  "orig_nbformat": 4
 },
 "nbformat": 4,
 "nbformat_minor": 2
}
