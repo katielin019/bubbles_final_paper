{
 "cells": [
  {
   "cell_type": "code",
   "execution_count": 1,
   "metadata": {},
   "outputs": [],
   "source": [
    "import re\n",
    "import pandas as pd"
   ]
  },
  {
   "cell_type": "code",
   "execution_count": 2,
   "metadata": {},
   "outputs": [],
   "source": [
    "df = pd.read_csv('entropy_all.csv', header=0, converters={'season': str})"
   ]
  },
  {
   "cell_type": "code",
   "execution_count": 4,
   "metadata": {},
   "outputs": [
    {
     "data": {
      "text/plain": [
       "title\n",
       "30 Rock                        4.665804\n",
       "Bewitched                      4.643937\n",
       "Big Bang Theory                4.654799\n",
       "Boy Meets World                4.647054\n",
       "Brooklyn Nine-Nine             4.667063\n",
       "Buffy the Vampire Slayer       4.682935\n",
       "Cheers                         4.626973\n",
       "Community                      4.656627\n",
       "Fleabag                        4.681176\n",
       "Frasier                        4.637622\n",
       "Friends                        4.692794\n",
       "Full House                     4.642195\n",
       "Get Smart                      4.654246\n",
       "I Dream of Jeannie             4.663450\n",
       "I Love Lucy                    4.665562\n",
       "M*A*S*H                        4.689438\n",
       "Malcolm in the Middle          4.603609\n",
       "Mork and Mindy                 4.643915\n",
       "New Girl                       4.693832\n",
       "PEN15                          4.703374\n",
       "Parks and Recreation           4.662611\n",
       "Psych                          4.631332\n",
       "Sabrina The Teenage Witch      4.664032\n",
       "Sanford and Son                4.631367\n",
       "Santa Clarita Diet             4.640142\n",
       "Saved By The Bell              4.666062\n",
       "Schitt's Creek                 4.639495\n",
       "Seinfeld                       4.678492\n",
       "Silicon Valley                 4.661250\n",
       "Taxi                           4.648516\n",
       "That '70s Show                 4.670149\n",
       "The Addams Family              4.680499\n",
       "The Flintstones                4.666420\n",
       "The Fresh Prince of Bel-Air    4.661232\n",
       "The Golden Girls               4.623010\n",
       "The Good Place                 4.620180\n",
       "The IT Crowd                   4.671924\n",
       "The Mary Tyler Moore Show      4.658881\n",
       "The Munsters                   4.656812\n",
       "The Office (US)                4.668078\n",
       "Three's Company                4.562148\n",
       "Who's the Boss?                4.665912\n",
       "Will & Grace                   4.653927\n",
       "Name: entropy, dtype: float64"
      ]
     },
     "execution_count": 4,
     "metadata": {},
     "output_type": "execute_result"
    }
   ],
   "source": [
    "df.groupby(['title'])['entropy'].mean()"
   ]
  },
  {
   "cell_type": "code",
   "execution_count": 8,
   "metadata": {},
   "outputs": [],
   "source": [
    "tmp = df.groupby(['title', 'season'])['entropy'].mean()"
   ]
  },
  {
   "cell_type": "code",
   "execution_count": 9,
   "metadata": {},
   "outputs": [],
   "source": [
    "tmp.to_csv('test.csv')"
   ]
  },
  {
   "cell_type": "code",
   "execution_count": null,
   "metadata": {},
   "outputs": [],
   "source": []
  }
 ],
 "metadata": {
  "kernelspec": {
   "display_name": "base",
   "language": "python",
   "name": "python3"
  },
  "language_info": {
   "codemirror_mode": {
    "name": "ipython",
    "version": 3
   },
   "file_extension": ".py",
   "mimetype": "text/x-python",
   "name": "python",
   "nbconvert_exporter": "python",
   "pygments_lexer": "ipython3",
   "version": "3.8.10"
  },
  "orig_nbformat": 4
 },
 "nbformat": 4,
 "nbformat_minor": 2
}
